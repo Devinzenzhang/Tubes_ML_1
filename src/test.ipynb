{
 "cells": [
  {
   "cell_type": "code",
   "execution_count": 1,
   "metadata": {},
   "outputs": [],
   "source": [
    "from sklearn.datasets import fetch_openml\n",
    "from sklearn.model_selection import train_test_split\n",
    "import numpy as np\n",
    "import matplotlib.pyplot as plt\n",
    "import pandas as pd\n",
    "from tqdm import tqdm  # Progress bar\n",
    "import dill\n",
    "\n",
    "from Value import Value\n",
    "from ValueTensor import ValueTensor, criterion\n",
    "from Layer import initialization, Layer, OutputLayer\n",
    "from model import FFNN"
   ]
  },
  {
   "cell_type": "markdown",
   "metadata": {},
   "source": [
    "# Load Dataset"
   ]
  },
  {
   "cell_type": "code",
   "execution_count": 2,
   "metadata": {},
   "outputs": [],
   "source": [
    "X, y = fetch_openml(\"mnist_784\", version=1, return_X_y=True, as_frame=False)\n",
    "Y = np.eye(10)[y.astype(int)] # one hot encoding untuk output"
   ]
  },
  {
   "cell_type": "code",
   "execution_count": 3,
   "metadata": {},
   "outputs": [],
   "source": [
    "# normalisasi value\n",
    "# asumsi dataset tidak berubah\n",
    "X_normalized = X / 255\n",
    "Y_normalized = Y / 255"
   ]
  },
  {
   "cell_type": "code",
   "execution_count": 4,
   "metadata": {},
   "outputs": [],
   "source": [
    "# ambil sebagian data set karena terlalu lama\n",
    "n = 700\n",
    "\n",
    "X_sliced = X_normalized[:n]\n",
    "Y_sliced = Y_normalized[:n]"
   ]
  },
  {
   "cell_type": "code",
   "execution_count": 5,
   "metadata": {},
   "outputs": [],
   "source": [
    "# split training and validation set\n",
    "X_train, X_val, Y_train, Y_val = train_test_split(X_sliced, Y_sliced, test_size=1/7, random_state=42)"
   ]
  },
  {
   "cell_type": "markdown",
   "metadata": {},
   "source": [
    "# Test save and load model"
   ]
  },
  {
   "cell_type": "code",
   "execution_count": 7,
   "metadata": {},
   "outputs": [
    {
     "name": "stdout",
     "output_type": "stream",
     "text": [
      "Model saved to mokel.pkl\n"
     ]
    }
   ],
   "source": [
    "ModelSigmaSkibidi = FFNN(2, [3, 4, 5], 10, [\"linear\", \"relu\", \"sigmoid\", \"softmax\"], \"mse\", [(\"zero\", -1, 1, 42, \"he\") for _ in range (4)])\n",
    "ModelSigmaSkibidi.save_model(\"mokel.pkl\")"
   ]
  },
  {
   "cell_type": "code",
   "execution_count": 11,
   "metadata": {},
   "outputs": [
    {
     "name": "stdout",
     "output_type": "stream",
     "text": [
      "Model loaded from mokel.pkl\n",
      "2\n",
      "[3 4 5]\n",
      "10\n",
      "[ 2  3  4  5 10]\n",
      "['linear', 'relu', 'sigmoid', 'softmax']\n",
      "mse\n",
      "[('zero', -1, 1, 42, 'he'), ('zero', -1, 1, 42, 'he'), ('zero', -1, 1, 42, 'he'), ('zero', -1, 1, 42, 'he')]\n",
      "ValueTensor(\n",
      "[[0. 0. 0.]\n",
      " [0. 0. 0.]\n",
      " [0. 0. 0.]])\n"
     ]
    }
   ],
   "source": [
    "ModelHawkTuah = FFNN.load_model(\"mokel.pkl\")\n",
    "print(ModelHawkTuah.input_size)\n",
    "print(ModelHawkTuah.hidden_size_array)\n",
    "print(ModelHawkTuah.output_size)\n",
    "print(ModelHawkTuah.num_neurons)\n",
    "print(ModelHawkTuah.activation_function)\n",
    "print(ModelHawkTuah.loss_function)\n",
    "print(ModelHawkTuah.weight_init)\n",
    "print(ModelHawkTuah.input_and_hidden_layers[0].weights)"
   ]
  }
 ],
 "metadata": {
  "kernelspec": {
   "display_name": "Python 3",
   "language": "python",
   "name": "python3"
  },
  "language_info": {
   "codemirror_mode": {
    "name": "ipython",
    "version": 3
   },
   "file_extension": ".py",
   "mimetype": "text/x-python",
   "name": "python",
   "nbconvert_exporter": "python",
   "pygments_lexer": "ipython3",
   "version": "3.10.11"
  }
 },
 "nbformat": 4,
 "nbformat_minor": 2
}
